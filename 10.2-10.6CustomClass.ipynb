{
 "cells": [
  {
   "cell_type": "markdown",
   "id": "df56fdce-3e37-4b81-916e-0ff2b952a14b",
   "metadata": {},
   "source": [
    "# 10.2 Practice and Self Check"
   ]
  },
  {
   "cell_type": "code",
   "execution_count": 1,
   "id": "ec23688b-69fe-4619-b252-47a4b10709d9",
   "metadata": {},
   "outputs": [],
   "source": [
    "import account"
   ]
  },
  {
   "cell_type": "code",
   "execution_count": 2,
   "id": "c64ed3ee-4704-4a6a-98a6-c993f0a7c8a3",
   "metadata": {},
   "outputs": [],
   "source": [
    "from account import Account"
   ]
  },
  {
   "cell_type": "code",
   "execution_count": 3,
   "id": "4f2e1693-857e-4381-9a18-5fe662af6cca",
   "metadata": {},
   "outputs": [],
   "source": [
    "from decimal import Decimal"
   ]
  },
  {
   "cell_type": "code",
   "execution_count": 25,
   "id": "8e0f83f6-a03a-4ee0-8b5b-3ce03eee521e",
   "metadata": {},
   "outputs": [],
   "source": [
    "account1 = Account('John Green', Decimal('50.00'))"
   ]
  },
  {
   "cell_type": "code",
   "execution_count": 5,
   "id": "b3a738e1-53b8-432b-890a-c8e1c5e27609",
   "metadata": {},
   "outputs": [
    {
     "data": {
      "text/plain": [
       "'John Green'"
      ]
     },
     "execution_count": 5,
     "metadata": {},
     "output_type": "execute_result"
    }
   ],
   "source": [
    "account1.name"
   ]
  },
  {
   "cell_type": "code",
   "execution_count": 6,
   "id": "1e874fdf-02d6-4706-bf6a-beea750e6c3f",
   "metadata": {},
   "outputs": [
    {
     "data": {
      "text/plain": [
       "Decimal('50.00')"
      ]
     },
     "execution_count": 6,
     "metadata": {},
     "output_type": "execute_result"
    }
   ],
   "source": [
    "account1.balance"
   ]
  },
  {
   "cell_type": "code",
   "execution_count": 7,
   "id": "03546f61-4020-4d4b-b517-faad7d7ef5e8",
   "metadata": {},
   "outputs": [],
   "source": [
    "account1.deposit(Decimal('25.53'))"
   ]
  },
  {
   "cell_type": "code",
   "execution_count": 8,
   "id": "406c013c-fdfa-4600-abc3-cb428d9b679b",
   "metadata": {},
   "outputs": [
    {
     "data": {
      "text/plain": [
       "Decimal('75.53')"
      ]
     },
     "execution_count": 8,
     "metadata": {},
     "output_type": "execute_result"
    }
   ],
   "source": [
    "account1.balance"
   ]
  },
  {
   "cell_type": "markdown",
   "id": "03ffa563-1f10-41fd-97c2-178c64d11973",
   "metadata": {},
   "source": [
    "# 10.2.2"
   ]
  },
  {
   "cell_type": "code",
   "execution_count": 9,
   "id": "4a296e02-f6df-4a65-a616-8a83d7e73ca5",
   "metadata": {},
   "outputs": [],
   "source": [
    "def __init__(self, name, balance):\n",
    "    if balance < Decimal('0.00'):\n",
    "        raise ValueError('Initial balance must be >= to 0.00.')\n",
    "    self.name = name\n",
    "    self.balance = balance"
   ]
  },
  {
   "cell_type": "markdown",
   "id": "5ec40f1d-8f11-4eb8-97fc-85d4ba18702b",
   "metadata": {},
   "source": [
    "self.attribute_name = value"
   ]
  },
  {
   "cell_type": "code",
   "execution_count": 26,
   "id": "8a6280b4-cd9a-4da3-96af-d178ee68d213",
   "metadata": {},
   "outputs": [],
   "source": [
    "def deposit(self, amount):\n",
    "    if amount < Decimal('0.00'):\n",
    "        raise ValueError('amount must be positive')\n",
    "    self.balance += amount\n"
   ]
  },
  {
   "cell_type": "code",
   "execution_count": 27,
   "id": "ec79e1b0-b20f-443f-b59b-5d1ea5510ce4",
   "metadata": {},
   "outputs": [],
   "source": [
    "def withdraw(self, amount):\n",
    "    if amount > self.balance:\n",
    "        raise ValueError('amount must be <= to balance.')\n",
    "    elif amount < Decimal('0.00'):\n",
    "        raise ValueError('amount must be positive')\n",
    "    self.balance -= amount"
   ]
  },
  {
   "cell_type": "code",
   "execution_count": 28,
   "id": "f4d77a1f-b275-47e1-9c6f-75e8468fa63a",
   "metadata": {},
   "outputs": [],
   "source": [
    "from account import Account"
   ]
  },
  {
   "cell_type": "code",
   "execution_count": 29,
   "id": "56191e78-93eb-4f2a-8cf4-b59b906c99b0",
   "metadata": {},
   "outputs": [],
   "source": [
    "from decimal import Decimal"
   ]
  },
  {
   "cell_type": "raw",
   "id": "3403dd0b-0b37-405f-950c-3aaca38f9c7a",
   "metadata": {},
   "source": [
    "account1 = Account('John Green', Decimal('50.00'))"
   ]
  },
  {
   "cell_type": "code",
   "execution_count": 39,
   "id": "5b793bd8-d772-4de5-8c3d-0b14099cd15c",
   "metadata": {},
   "outputs": [
    {
     "ename": "AttributeError",
     "evalue": "'Account' object has no attribute 'withdraw'",
     "output_type": "error",
     "traceback": [
      "\u001b[1;31m---------------------------------------------------------------------------\u001b[0m",
      "\u001b[1;31mAttributeError\u001b[0m                            Traceback (most recent call last)",
      "Input \u001b[1;32mIn [39]\u001b[0m, in \u001b[0;36m<cell line: 1>\u001b[1;34m()\u001b[0m\n\u001b[1;32m----> 1\u001b[0m \u001b[43maccount1\u001b[49m\u001b[38;5;241;43m.\u001b[39;49m\u001b[43mwithdraw\u001b[49m(Decimal(\u001b[38;5;124m'\u001b[39m\u001b[38;5;124m20.00\u001b[39m\u001b[38;5;124m'\u001b[39m))\n",
      "\u001b[1;31mAttributeError\u001b[0m: 'Account' object has no attribute 'withdraw'"
     ]
    }
   ],
   "source": [
    "account1.withdraw(Decimal('20.00'))"
   ]
  },
  {
   "cell_type": "markdown",
   "id": "497a0689-acf4-4d14-9d50-67064258e8ba",
   "metadata": {},
   "source": [
    "# 10.3"
   ]
  },
  {
   "cell_type": "code",
   "execution_count": 31,
   "id": "6cd82156-7750-4200-8821-9fd2debf057a",
   "metadata": {},
   "outputs": [],
   "source": [
    "from account import Account"
   ]
  },
  {
   "cell_type": "code",
   "execution_count": 32,
   "id": "ac47def5-9334-4d21-ba23-45c02aeb5583",
   "metadata": {},
   "outputs": [],
   "source": [
    "from decimal import Decimal"
   ]
  },
  {
   "cell_type": "code",
   "execution_count": 34,
   "id": "8e842ead-27af-4157-b8b0-6189c08ffc2c",
   "metadata": {},
   "outputs": [],
   "source": [
    "account1 = Account('JohnGreen', Decimal('50.00'))\n"
   ]
  },
  {
   "cell_type": "code",
   "execution_count": 35,
   "id": "80545af7-5ffa-4ab3-b1f3-8d43f4dfa338",
   "metadata": {},
   "outputs": [
    {
     "data": {
      "text/plain": [
       "Decimal('50.00')"
      ]
     },
     "execution_count": 35,
     "metadata": {},
     "output_type": "execute_result"
    }
   ],
   "source": [
    "account1.balance"
   ]
  },
  {
   "cell_type": "code",
   "execution_count": 40,
   "id": "55036fbc-8aeb-400d-bf4c-553d487a46a0",
   "metadata": {},
   "outputs": [],
   "source": [
    "account1.balance = Decimal('-1000.00')"
   ]
  },
  {
   "cell_type": "code",
   "execution_count": 41,
   "id": "732dbf1a-d30b-49e0-893c-c6056460c07c",
   "metadata": {},
   "outputs": [
    {
     "data": {
      "text/plain": [
       "Decimal('-1000.00')"
      ]
     },
     "execution_count": 41,
     "metadata": {},
     "output_type": "execute_result"
    }
   ],
   "source": [
    "account1.balance"
   ]
  },
  {
   "cell_type": "markdown",
   "id": "ff14c8ef-b6b1-4cd4-875f-f03637e207a0",
   "metadata": {},
   "source": [
    "# 10.4"
   ]
  },
  {
   "cell_type": "code",
   "execution_count": 6,
   "id": "150ffcd1-a45a-4944-a367-526e98c337b0",
   "metadata": {},
   "outputs": [],
   "source": [
    "from timewithproperties import Time"
   ]
  },
  {
   "cell_type": "code",
   "execution_count": 7,
   "id": "d6794402-14f3-4b61-a28a-1aba1cf86a5b",
   "metadata": {},
   "outputs": [],
   "source": [
    "wake_up = Time(hour=6, minute=30)"
   ]
  },
  {
   "cell_type": "code",
   "execution_count": 8,
   "id": "a5c27d23-ca4f-4844-9c12-2622007b36dd",
   "metadata": {},
   "outputs": [
    {
     "data": {
      "text/plain": [
       "Time(hour=6, minute=30, second=0)"
      ]
     },
     "execution_count": 8,
     "metadata": {},
     "output_type": "execute_result"
    }
   ],
   "source": [
    "wake_up"
   ]
  },
  {
   "cell_type": "code",
   "execution_count": 9,
   "id": "79885e7c-71ed-4d51-8446-e8f80b816be5",
   "metadata": {},
   "outputs": [
    {
     "name": "stdout",
     "output_type": "stream",
     "text": [
      "6:30:00 AM\n"
     ]
    }
   ],
   "source": [
    "print(wake_up)"
   ]
  },
  {
   "cell_type": "code",
   "execution_count": 10,
   "id": "87538950-e848-4b8d-ab41-49e313f0b27a",
   "metadata": {},
   "outputs": [
    {
     "data": {
      "text/plain": [
       "6"
      ]
     },
     "execution_count": 10,
     "metadata": {},
     "output_type": "execute_result"
    }
   ],
   "source": [
    "wake_up.hour"
   ]
  },
  {
   "cell_type": "code",
   "execution_count": 11,
   "id": "02d27990-257c-413b-baf5-c10cfd90dc36",
   "metadata": {},
   "outputs": [],
   "source": [
    "def __init__(self, hour=0, minute=0, second=0):\n",
    "    self.hour = hour\n",
    "    self.minute = minute\n",
    "    self.second = second"
   ]
  },
  {
   "cell_type": "code",
   "execution_count": 16,
   "id": "da03217d-5832-4c10-a47a-f0cdeb46f037",
   "metadata": {},
   "outputs": [],
   "source": [
    "@property\n",
    "def hour(self):\n",
    "    return (self._hour, self.minute, self.second)"
   ]
  },
  {
   "cell_type": "code",
   "execution_count": 14,
   "id": "78f87204-1956-42f5-9b9d-d98c73e7b4fd",
   "metadata": {},
   "outputs": [],
   "source": [
    "wake_up.hour = 8"
   ]
  },
  {
   "cell_type": "code",
   "execution_count": 18,
   "id": "c34499e3-0bbe-4912-8928-3b3521af26bb",
   "metadata": {},
   "outputs": [],
   "source": [
    "from timewithproperties import Time"
   ]
  },
  {
   "cell_type": "code",
   "execution_count": 19,
   "id": "9dcbcdd6-6535-457b-a2e3-b126344701f1",
   "metadata": {},
   "outputs": [],
   "source": [
    "t = Time()"
   ]
  },
  {
   "cell_type": "code",
   "execution_count": 20,
   "id": "f594c78a-9bf0-4a32-8799-b89df68a01c3",
   "metadata": {},
   "outputs": [
    {
     "data": {
      "text/plain": [
       "Time(hour=0, minute=0, second=0)"
      ]
     },
     "execution_count": 20,
     "metadata": {},
     "output_type": "execute_result"
    }
   ],
   "source": [
    "t"
   ]
  },
  {
   "cell_type": "code",
   "execution_count": 21,
   "id": "1bcd8bd8-5ecd-4507-bb9b-fdb842113f4f",
   "metadata": {},
   "outputs": [],
   "source": [
    "t.time = (12, 30, 45)"
   ]
  },
  {
   "cell_type": "code",
   "execution_count": 23,
   "id": "fa2e52ce-0fef-4cad-bd66-fd2e0afb0456",
   "metadata": {},
   "outputs": [
    {
     "data": {
      "text/plain": [
       "(12, 30, 45)"
      ]
     },
     "execution_count": 23,
     "metadata": {},
     "output_type": "execute_result"
    }
   ],
   "source": [
    "t.time"
   ]
  },
  {
   "cell_type": "markdown",
   "id": "24c07cdb-0375-4bcb-a1a6-b3d044516273",
   "metadata": {},
   "source": [
    "# 10.6"
   ]
  },
  {
   "cell_type": "code",
   "execution_count": 68,
   "id": "b6b98c4f-179b-46eb-9999-f717a3ee393f",
   "metadata": {},
   "outputs": [
    {
     "name": "stdout",
     "output_type": "stream",
     "text": [
      "C:\\Users\\19139\\Documents\\NWMSU\\DataAnalyticsFundamentals\\IntroToPython\\examples\\ch10\n"
     ]
    }
   ],
   "source": [
    "cd \"C:\\Users\\19139\\Documents\\NWMSU\\DataAnalyticsFundamentals\\IntroToPython\\examples\\ch10\""
   ]
  },
  {
   "cell_type": "code",
   "execution_count": 69,
   "id": "6bddf314-2aa2-43f3-b105-564852d9a571",
   "metadata": {},
   "outputs": [],
   "source": [
    "from deck import DeckOfCards"
   ]
  },
  {
   "cell_type": "code",
   "execution_count": 70,
   "id": "d7775a7a-0de3-453a-b00c-d2de5c91ed7c",
   "metadata": {},
   "outputs": [],
   "source": [
    "deck_of_cards = DeckOfCards()"
   ]
  },
  {
   "cell_type": "code",
   "execution_count": 71,
   "id": "7d3369e9-3589-4c09-b212-aa4cff5767a7",
   "metadata": {},
   "outputs": [
    {
     "name": "stdout",
     "output_type": "stream",
     "text": [
      "Using matplotlib backend: TkAgg\n"
     ]
    }
   ],
   "source": [
    "%matplotlib"
   ]
  },
  {
   "cell_type": "code",
   "execution_count": 72,
   "id": "49de5a19-02bd-43c6-92ef-a5c6978e9bed",
   "metadata": {},
   "outputs": [],
   "source": [
    "from pathlib import Path"
   ]
  },
  {
   "cell_type": "code",
   "execution_count": 73,
   "id": "09ff890a-2a1d-430a-86e3-db3b0c218736",
   "metadata": {},
   "outputs": [],
   "source": [
    "path = Path('.').joinpath('card_images')"
   ]
  },
  {
   "cell_type": "code",
   "execution_count": 74,
   "id": "f9d49e2e-ec95-4e10-a625-a8653ac765bb",
   "metadata": {},
   "outputs": [],
   "source": [
    "import matplotlib.pyplot as plt"
   ]
  },
  {
   "cell_type": "code",
   "execution_count": 75,
   "id": "ce95ec18-89aa-4080-ad3e-7a32e4970f8a",
   "metadata": {},
   "outputs": [],
   "source": [
    "import matplotlib.image as mpimg"
   ]
  },
  {
   "cell_type": "code",
   "execution_count": 76,
   "id": "9ca96c1e-fa1f-4894-946d-b0c11dab63d5",
   "metadata": {},
   "outputs": [],
   "source": [
    "figure, axes_list = plt.subplots(nrows=4, ncols=13)"
   ]
  },
  {
   "cell_type": "code",
   "execution_count": 77,
   "id": "66bbb253-53e1-4198-a7b4-d6c117a7d3eb",
   "metadata": {},
   "outputs": [],
   "source": [
    "for axes in axes_list.ravel():\n",
    "    axes.get_xaxis().set_visible(False)\n",
    "    axes.get_yaxis().set_visible(False)\n",
    "    image_name = deck_of_cards.deal_card().image_name\n",
    "    img = mpimg.imread(str(path.joinpath(image_name).resolve()))\n",
    "    axes.imshow(img) "
   ]
  },
  {
   "cell_type": "code",
   "execution_count": 81,
   "id": "a015d4f1-8bb2-469a-b196-e4c1dd4e808d",
   "metadata": {},
   "outputs": [],
   "source": [
    "deck_of_cards.shuffle()"
   ]
  },
  {
   "cell_type": "code",
   "execution_count": 82,
   "id": "b4b4324d-ffa8-4497-829d-459f50268111",
   "metadata": {},
   "outputs": [],
   "source": [
    "figure, axes_list = plt.subplots(nrows=2, ncols=5)"
   ]
  },
  {
   "cell_type": "code",
   "execution_count": 83,
   "id": "29cd3445-4d27-4dd0-b7b6-113ed480d1cf",
   "metadata": {},
   "outputs": [],
   "source": [
    "for axes in axes_list.ravel():\n",
    "    axes.get_xaxis().set_visible(False)\n",
    "    axes.get_yaxis().set_visible(False)\n",
    "    image_name = deck_of_cards.deal_card().image_name\n",
    "    img = mpimg.imread(str(path.joinpath(image_name).resolve()))\n",
    "    axes.imshow(img) "
   ]
  },
  {
   "cell_type": "code",
   "execution_count": null,
   "id": "ff8687ea-2df9-43cc-b69f-8a1fe0e0f57f",
   "metadata": {},
   "outputs": [],
   "source": []
  }
 ],
 "metadata": {
  "kernelspec": {
   "display_name": "Python 3 (ipykernel)",
   "language": "python",
   "name": "python3"
  },
  "language_info": {
   "codemirror_mode": {
    "name": "ipython",
    "version": 3
   },
   "file_extension": ".py",
   "mimetype": "text/x-python",
   "name": "python",
   "nbconvert_exporter": "python",
   "pygments_lexer": "ipython3",
   "version": "3.9.12"
  }
 },
 "nbformat": 4,
 "nbformat_minor": 5
}
