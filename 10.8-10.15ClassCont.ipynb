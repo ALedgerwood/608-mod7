{
 "cells": [
  {
   "cell_type": "markdown",
   "id": "8c202897-f8b9-479e-826f-b04986cbda04",
   "metadata": {},
   "source": [
    "# 10.8"
   ]
  },
  {
   "cell_type": "code",
   "execution_count": 3,
   "id": "85ed083e-9d7b-41e8-95c3-fc35538f4cec",
   "metadata": {},
   "outputs": [],
   "source": [
    "from decimal import Decimal"
   ]
  },
  {
   "cell_type": "code",
   "execution_count": 4,
   "id": "ce904c6d-e3a7-4aef-ab28-da87b139498d",
   "metadata": {},
   "outputs": [],
   "source": [
    "def __init__(self, first_name, last_name, ssn, gross_sales, commission_rate):\n",
    "    self._first_name = first_name\n",
    "    self._last_name = last_name\n",
    "    self._ssn = ssn\n",
    "    self._gross_sales = gross_sales\n",
    "    self._commission_rate = commission_rate"
   ]
  },
  {
   "cell_type": "code",
   "execution_count": 5,
   "id": "3c750258-e179-4bd7-80db-7720f44f605e",
   "metadata": {},
   "outputs": [],
   "source": [
    "@property\n",
    "def first_name(self):\n",
    "    return self._first_name"
   ]
  },
  {
   "cell_type": "code",
   "execution_count": 6,
   "id": "8441d890-b3f7-405a-bb07-756696876e6f",
   "metadata": {},
   "outputs": [],
   "source": [
    "@property\n",
    "def last_name(self):\n",
    "    return self._last_name"
   ]
  },
  {
   "cell_type": "code",
   "execution_count": 7,
   "id": "d87d80b7-c70f-4470-8079-795217a4f7fc",
   "metadata": {},
   "outputs": [],
   "source": [
    "@property\n",
    "def ssn(self):\n",
    "    return self._ssn"
   ]
  },
  {
   "cell_type": "code",
   "execution_count": 8,
   "id": "8208553d-e66b-4584-a405-045a7646a164",
   "metadata": {},
   "outputs": [],
   "source": [
    "@property\n",
    "def gross_sales(self):\n",
    "    return self._gross_sales"
   ]
  },
  {
   "cell_type": "code",
   "execution_count": 9,
   "id": "23468daf-c8ea-4950-8e15-6c33252656b7",
   "metadata": {},
   "outputs": [],
   "source": [
    "@gross_sales.setter\n",
    "def gross_sales(self, sales):\n",
    "    if sales < Decimal('0.0'):\n",
    "        raise ValueError('Gross sales must be >= to 0')\n",
    "    self.gross_sales = sales"
   ]
  },
  {
   "cell_type": "code",
   "execution_count": 10,
   "id": "c7b0c957-e4b4-45d1-9617-2662392b4976",
   "metadata": {},
   "outputs": [],
   "source": [
    "@property\n",
    "def commission_rate(self):\n",
    "    return self._commission_rate"
   ]
  },
  {
   "cell_type": "code",
   "execution_count": 11,
   "id": "94196c57-ef03-473c-8ef9-24ec995ea079",
   "metadata": {},
   "outputs": [],
   "source": [
    "@commission_rate.setter\n",
    "def commission_rate(self, rate):\n",
    "    if not (Decimal('0.0') < rate < Decimal('1.0')):\n",
    "        raise ValueError('Interest rate must be greater than 0 and less than 1')\n",
    "    self._commission_rate = rate\n",
    "    \n",
    "def earnings(self):\n",
    "    return self.gross_sales * self.commission_rate\n",
    "\n",
    "def __repr__(self):\n",
    "    return ('CommissionEmployee: ' +\n",
    "        f'{self.first_name}{self.last_name}\\n' +\n",
    "        f'social secruity number: {self.ssn}\\n' +\n",
    "        f'gross sales: {self.gross_sales}\\n' +\n",
    "        f'commission rate: {self.commission_rate: .2f}')"
   ]
  },
  {
   "cell_type": "code",
   "execution_count": 14,
   "id": "d5b1cb97-cb7b-4dd1-8830-a40b1c6ba387",
   "metadata": {},
   "outputs": [
    {
     "name": "stdout",
     "output_type": "stream",
     "text": [
      "C:\\Users\\19139\\Documents\\NWMSU\\DataAnalyticsFundamentals\\IntroToPython\\examples\\ch10\n"
     ]
    }
   ],
   "source": [
    "cd \"C:\\Users\\19139\\Documents\\NWMSU\\DataAnalyticsFundamentals\\IntroToPython\\examples\\ch10\""
   ]
  },
  {
   "cell_type": "code",
   "execution_count": 15,
   "id": "e422db8d-18b2-40ed-a15c-796ea5cfe03f",
   "metadata": {},
   "outputs": [],
   "source": [
    "from commissionemployee import CommissionEmployee"
   ]
  },
  {
   "cell_type": "code",
   "execution_count": 16,
   "id": "90dfd68b-8058-4700-9e5b-31aa4ef2eaf6",
   "metadata": {},
   "outputs": [],
   "source": [
    "from decimal import Decimal"
   ]
  },
  {
   "cell_type": "code",
   "execution_count": 17,
   "id": "12f4142c-3ca7-4a61-94f3-d233ed9f8885",
   "metadata": {},
   "outputs": [],
   "source": [
    "c = CommissionEmployee('Sue', 'Jones', '333-33-3333', Decimal('10000.00'), Decimal('0.06'))"
   ]
  },
  {
   "cell_type": "code",
   "execution_count": 18,
   "id": "3fa0105c-b142-4e2a-9935-22eefeacf5af",
   "metadata": {},
   "outputs": [
    {
     "data": {
      "text/plain": [
       "CommissionEmployee: Sue Jones\n",
       "social security number: 333-33-3333\n",
       "gross sales: 10000.00\n",
       "commission rate: 0.06"
      ]
     },
     "execution_count": 18,
     "metadata": {},
     "output_type": "execute_result"
    }
   ],
   "source": [
    "c"
   ]
  },
  {
   "cell_type": "code",
   "execution_count": 19,
   "id": "0d9a0b8a-da5b-4d5d-bad6-b90bfeb2f09c",
   "metadata": {},
   "outputs": [
    {
     "name": "stdout",
     "output_type": "stream",
     "text": [
      "600.00\n"
     ]
    }
   ],
   "source": [
    "print(f'{c.earnings():,.2f}')"
   ]
  },
  {
   "cell_type": "code",
   "execution_count": 20,
   "id": "e87ffc45-1e84-4267-bed4-cc63fa3a846c",
   "metadata": {},
   "outputs": [],
   "source": [
    "c.gross_sales = Decimal('20000.00')"
   ]
  },
  {
   "cell_type": "code",
   "execution_count": 21,
   "id": "9953b6d6-c649-48af-96cc-5efab9a62737",
   "metadata": {},
   "outputs": [],
   "source": [
    "c.commission_rate = Decimal('0.1')"
   ]
  },
  {
   "cell_type": "code",
   "execution_count": 22,
   "id": "076f17c9-e9ae-4904-bc30-a8105c721663",
   "metadata": {},
   "outputs": [
    {
     "name": "stdout",
     "output_type": "stream",
     "text": [
      "2,000.00\n"
     ]
    }
   ],
   "source": [
    "print(f'{c.earnings():,.2f}')"
   ]
  },
  {
   "cell_type": "markdown",
   "id": "70d9fcd1-7b44-4217-a5b7-9a2e223524bd",
   "metadata": {},
   "source": [
    "# 10.9"
   ]
  },
  {
   "cell_type": "code",
   "execution_count": 23,
   "id": "21164e8d-fdd0-45a8-863a-e7b1b5f0e5a0",
   "metadata": {},
   "outputs": [],
   "source": [
    "class WellPaidDuck:\n",
    "    def __repr__(self):\n",
    "        return 'I am a well-paid duck'\n",
    "    def earnings(self):\n",
    "        return Decimal('1_000_000')"
   ]
  },
  {
   "cell_type": "code",
   "execution_count": 24,
   "id": "4ac375c3-0302-421a-b5f8-7889a7cb843d",
   "metadata": {},
   "outputs": [],
   "source": [
    "from decimal import Decimal"
   ]
  },
  {
   "cell_type": "code",
   "execution_count": 25,
   "id": "53fc4002-f5cf-4522-b713-66d31dbbe7a3",
   "metadata": {},
   "outputs": [],
   "source": [
    "from commissionemployee import CommissionEmployee"
   ]
  },
  {
   "cell_type": "code",
   "execution_count": 26,
   "id": "da591301-dc1c-4417-9c8c-c04edde7d4d1",
   "metadata": {},
   "outputs": [],
   "source": [
    "from salariedcommissionemployee import SalariedCommissionEmployee"
   ]
  },
  {
   "cell_type": "code",
   "execution_count": 27,
   "id": "5fe71e37-bf28-41ed-aa7e-a5a4f8417626",
   "metadata": {},
   "outputs": [],
   "source": [
    "c = CommissionEmployee('Sue', 'Jones', '333-33-3333', Decimal('1000.00'), Decimal('0.06'))"
   ]
  },
  {
   "cell_type": "code",
   "execution_count": 37,
   "id": "64b3ca9a-6afc-47e1-8860-45d172234fff",
   "metadata": {},
   "outputs": [],
   "source": [
    "s = SalariedCommissionEmployee('Bob', 'Lewis', '444-44-4444', Decimal('5000.00'), Decimal('0.04'), Decimal('300.00'))"
   ]
  },
  {
   "cell_type": "code",
   "execution_count": 38,
   "id": "923fa971-1c60-4d3f-9caf-4618b9d97cf8",
   "metadata": {},
   "outputs": [],
   "source": [
    "d = WellPaidDuck()"
   ]
  },
  {
   "cell_type": "code",
   "execution_count": 39,
   "id": "533f228a-1618-4fdf-bb78-5931dcb48cb9",
   "metadata": {},
   "outputs": [],
   "source": [
    "employees = [c, s, d]"
   ]
  },
  {
   "cell_type": "code",
   "execution_count": 40,
   "id": "92af4b0e-5be1-4458-afad-7c6e7a178540",
   "metadata": {},
   "outputs": [
    {
     "name": "stdout",
     "output_type": "stream",
     "text": [
      "CommissionEmployee: Sue Jones\n",
      "social security number: 333-33-3333\n",
      "gross sales: 1000.00\n",
      "commission rate: 0.06\n",
      "60.00\n",
      "\n",
      "SalariedCommissionEmployee: Bob Lewis\n",
      "social security number: 444-44-4444\n",
      "gross sales: 5000.00\n",
      "commission rate: 0.04\n",
      "base salary: 300.00\n",
      "500.00\n",
      "\n",
      "I am a well-paid duck\n",
      "1,000,000.00\n",
      "\n"
     ]
    }
   ],
   "source": [
    "for employee in employees:\n",
    "    print(employee)\n",
    "    print(f'{employee.earnings():,.2f}\\n')\n",
    "    \n"
   ]
  },
  {
   "cell_type": "markdown",
   "id": "3b05608a-28a4-4acc-8bc7-236605d8d177",
   "metadata": {},
   "source": [
    "# 10.10"
   ]
  },
  {
   "cell_type": "code",
   "execution_count": 42,
   "id": "be9fb0a4-08ab-42aa-b9ee-d26ced99a330",
   "metadata": {},
   "outputs": [],
   "source": [
    "from complexnumber2 import Complex"
   ]
  },
  {
   "cell_type": "code",
   "execution_count": 43,
   "id": "523abd0c-c78a-4fd7-825b-2adda6229121",
   "metadata": {},
   "outputs": [],
   "source": [
    "x = Complex(real=2, imaginary=4)"
   ]
  },
  {
   "cell_type": "code",
   "execution_count": 44,
   "id": "a8d87f2b-b271-42a2-9867-533b3567e7c8",
   "metadata": {},
   "outputs": [],
   "source": [
    "y = Complex(real=5, imaginary=-1)"
   ]
  },
  {
   "cell_type": "code",
   "execution_count": 45,
   "id": "faf83b0c-aa9d-4a38-b285-fc4baa3504e3",
   "metadata": {},
   "outputs": [
    {
     "data": {
      "text/plain": [
       "(-3 + 5i)"
      ]
     },
     "execution_count": 45,
     "metadata": {},
     "output_type": "execute_result"
    }
   ],
   "source": [
    "x - y"
   ]
  },
  {
   "cell_type": "code",
   "execution_count": 46,
   "id": "004249b7-dcb8-4a97-ab2c-7984125889d2",
   "metadata": {},
   "outputs": [],
   "source": [
    "x -= y"
   ]
  },
  {
   "cell_type": "code",
   "execution_count": 47,
   "id": "56d4355b-4e7c-429d-9abd-f1076f17d78b",
   "metadata": {},
   "outputs": [
    {
     "data": {
      "text/plain": [
       "(-3 + 5i)"
      ]
     },
     "execution_count": 47,
     "metadata": {},
     "output_type": "execute_result"
    }
   ],
   "source": [
    "x"
   ]
  },
  {
   "cell_type": "code",
   "execution_count": 48,
   "id": "8844f8ea-44f1-4b32-8e11-59b36d6184bc",
   "metadata": {},
   "outputs": [
    {
     "data": {
      "text/plain": [
       "(5 - 1i)"
      ]
     },
     "execution_count": 48,
     "metadata": {},
     "output_type": "execute_result"
    }
   ],
   "source": [
    "y"
   ]
  },
  {
   "cell_type": "markdown",
   "id": "2763c1be-2e97-4aec-8bec-d26df39c46a1",
   "metadata": {},
   "source": [
    "# 10.12 Named Tuples"
   ]
  },
  {
   "cell_type": "code",
   "execution_count": 49,
   "id": "8b398141-335c-4fe2-96c1-fa85dd183e89",
   "metadata": {},
   "outputs": [],
   "source": [
    "from collections import namedtuple"
   ]
  },
  {
   "cell_type": "code",
   "execution_count": 50,
   "id": "ed1e3b24-ad65-4ee0-a9a0-632e81c3714f",
   "metadata": {},
   "outputs": [],
   "source": [
    "Time = namedtuple('Time', ['hour', 'minute', 'second'])"
   ]
  },
  {
   "cell_type": "code",
   "execution_count": 51,
   "id": "27f07e73-3015-44c9-bab9-75696457433d",
   "metadata": {},
   "outputs": [],
   "source": [
    "t = Time(13, 30, 45)"
   ]
  },
  {
   "cell_type": "code",
   "execution_count": 52,
   "id": "5667f258-63db-470a-a85e-7974c9797dde",
   "metadata": {},
   "outputs": [
    {
     "name": "stdout",
     "output_type": "stream",
     "text": [
      "13 30 45\n"
     ]
    }
   ],
   "source": [
    "print(t.hour, t.minute, t.second)"
   ]
  },
  {
   "cell_type": "code",
   "execution_count": 53,
   "id": "dede6fbb-d57f-4e65-9385-25c4a1c32cf8",
   "metadata": {},
   "outputs": [
    {
     "data": {
      "text/plain": [
       "Time(hour=13, minute=30, second=45)"
      ]
     },
     "execution_count": 53,
     "metadata": {},
     "output_type": "execute_result"
    }
   ],
   "source": [
    "t"
   ]
  },
  {
   "cell_type": "markdown",
   "id": "e8a1c5bf-92c0-405e-bd46-fb4b950cc6fc",
   "metadata": {},
   "source": [
    "# 10.13.2"
   ]
  },
  {
   "cell_type": "code",
   "execution_count": 54,
   "id": "636dfe01-70e4-4f79-8bca-6901c92c7e94",
   "metadata": {},
   "outputs": [],
   "source": [
    "from carddataclass import Card"
   ]
  },
  {
   "cell_type": "code",
   "execution_count": 55,
   "id": "78d58ebf-6136-461a-ab23-205c5f4106ad",
   "metadata": {},
   "outputs": [],
   "source": [
    "c = Card('Ace', 'Spades')"
   ]
  },
  {
   "cell_type": "code",
   "execution_count": 56,
   "id": "2535d157-321a-4997-9d1b-877826d16042",
   "metadata": {},
   "outputs": [
    {
     "data": {
      "text/plain": [
       "Card(face='Ace', suit='Spades')"
      ]
     },
     "execution_count": 56,
     "metadata": {},
     "output_type": "execute_result"
    }
   ],
   "source": [
    "c"
   ]
  },
  {
   "cell_type": "code",
   "execution_count": 57,
   "id": "ba3b874a-f025-450e-9643-fee27c3b8e85",
   "metadata": {},
   "outputs": [
    {
     "data": {
      "text/plain": [
       "str"
      ]
     },
     "execution_count": 57,
     "metadata": {},
     "output_type": "execute_result"
    }
   ],
   "source": [
    "type(c.face)"
   ]
  },
  {
   "cell_type": "code",
   "execution_count": 58,
   "id": "221a6d6f-5adc-46e2-99b8-e17d72cbd2ef",
   "metadata": {},
   "outputs": [],
   "source": [
    "c.face = 100"
   ]
  },
  {
   "cell_type": "code",
   "execution_count": 59,
   "id": "b7ae8c38-febc-4d58-843a-5e48f01ebfd9",
   "metadata": {},
   "outputs": [
    {
     "data": {
      "text/plain": [
       "Card(face=100, suit='Spades')"
      ]
     },
     "execution_count": 59,
     "metadata": {},
     "output_type": "execute_result"
    }
   ],
   "source": [
    "c"
   ]
  },
  {
   "cell_type": "code",
   "execution_count": 60,
   "id": "c5ddf5e4-a308-47cd-80da-46ec7c696fda",
   "metadata": {},
   "outputs": [
    {
     "data": {
      "text/plain": [
       "int"
      ]
     },
     "execution_count": 60,
     "metadata": {},
     "output_type": "execute_result"
    }
   ],
   "source": [
    "type(c.face)"
   ]
  },
  {
   "cell_type": "markdown",
   "id": "38d8045e-daa7-48af-b093-89f2b4668ab9",
   "metadata": {},
   "source": [
    "# 10.15"
   ]
  },
  {
   "cell_type": "code",
   "execution_count": 64,
   "id": "49007dbd-dcb0-4c58-895e-ee630879f721",
   "metadata": {},
   "outputs": [],
   "source": [
    "z = 'global z'"
   ]
  },
  {
   "cell_type": "code",
   "execution_count": 65,
   "id": "004a5074-73dd-46e0-997d-9412d9c9fdb1",
   "metadata": {},
   "outputs": [],
   "source": [
    "def print_variables():\n",
    "    y = 'local y in print_variables'\n",
    "    print(y)\n",
    "    print(z)"
   ]
  },
  {
   "cell_type": "code",
   "execution_count": 66,
   "id": "28e9a760-0edf-4a63-82ca-849a9feee149",
   "metadata": {},
   "outputs": [
    {
     "name": "stdout",
     "output_type": "stream",
     "text": [
      "local y in print_variables\n",
      "global z\n"
     ]
    }
   ],
   "source": [
    "print_variables()"
   ]
  },
  {
   "cell_type": "code",
   "execution_count": 68,
   "id": "ca8270d2-d9db-4053-a52a-31e4e43dc702",
   "metadata": {},
   "outputs": [
    {
     "data": {
      "text/plain": [
       "'global z'"
      ]
     },
     "execution_count": 68,
     "metadata": {},
     "output_type": "execute_result"
    }
   ],
   "source": [
    "z"
   ]
  },
  {
   "cell_type": "code",
   "execution_count": null,
   "id": "0035cb3a-ea61-43d0-ba0e-760a9c3f5b0d",
   "metadata": {},
   "outputs": [],
   "source": []
  }
 ],
 "metadata": {
  "kernelspec": {
   "display_name": "Python 3 (ipykernel)",
   "language": "python",
   "name": "python3"
  },
  "language_info": {
   "codemirror_mode": {
    "name": "ipython",
    "version": 3
   },
   "file_extension": ".py",
   "mimetype": "text/x-python",
   "name": "python",
   "nbconvert_exporter": "python",
   "pygments_lexer": "ipython3",
   "version": "3.9.12"
  }
 },
 "nbformat": 4,
 "nbformat_minor": 5
}
